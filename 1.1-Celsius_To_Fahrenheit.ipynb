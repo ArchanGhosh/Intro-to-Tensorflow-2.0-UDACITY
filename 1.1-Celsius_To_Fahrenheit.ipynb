{
  "nbformat": 4,
  "nbformat_minor": 0,
  "metadata": {
    "colab": {
      "name": "1.1: Celsius To Fahrenheit.ipynb",
      "provenance": [],
      "collapsed_sections": [],
      "authorship_tag": "ABX9TyNb8VtmNxZkXPh6HRUbdtqG",
      "include_colab_link": true
    },
    "kernelspec": {
      "name": "python3",
      "display_name": "Python 3"
    }
  },
  "cells": [
    {
      "cell_type": "markdown",
      "metadata": {
        "id": "view-in-github",
        "colab_type": "text"
      },
      "source": [
        "<a href=\"https://colab.research.google.com/github/ArchanGhosh/Intro-to-Tensorflow-2.0-UDACITY/blob/master/1.1-Celsius_To_Fahrenheit.ipynb\" target=\"_parent\"><img src=\"https://colab.research.google.com/assets/colab-badge.svg\" alt=\"Open In Colab\"/></a>"
      ]
    },
    {
      "cell_type": "code",
      "metadata": {
        "id": "YbMfjRrJwJX5",
        "colab_type": "code",
        "colab": {}
      },
      "source": [
        "import tensorflow as tf\n",
        "#tf.logging.set_verbosity(tf.logging.ERROR) //This Particular syntax is not available in tensorflow 2.0\n",
        "import numpy as np"
      ],
      "execution_count": 0,
      "outputs": []
    },
    {
      "cell_type": "code",
      "metadata": {
        "id": "Zbtzy4GeyMIZ",
        "colab_type": "code",
        "colab": {}
      },
      "source": [
        "celsius = np.array([-40, -10, 0, 8, 15, 22, 38], dtype=float) \n",
        "fahrenheit= np.array([-40, 14, 32, 46, 59, 72, 100], dtype=float)"
      ],
      "execution_count": 0,
      "outputs": []
    },
    {
      "cell_type": "code",
      "metadata": {
        "id": "Gia6-1PvzU2H",
        "colab_type": "code",
        "outputId": "480fd2c7-534a-40be-8add-68601fa78d43",
        "colab": {
          "base_uri": "https://localhost:8080/",
          "height": 136
        }
      },
      "source": [
        "for i,c in enumerate(celsius):\n",
        "  print(\"{} Degree Celsius = {} Degree Fahrenheit\".format(c,fahrenheit[i]))"
      ],
      "execution_count": 0,
      "outputs": [
        {
          "output_type": "stream",
          "text": [
            "-40.0 Degree Celsius = -40.0 Degree Fahrenheit\n",
            "-10.0 Degree Celsius = 14.0 Degree Fahrenheit\n",
            "0.0 Degree Celsius = 32.0 Degree Fahrenheit\n",
            "8.0 Degree Celsius = 46.0 Degree Fahrenheit\n",
            "15.0 Degree Celsius = 59.0 Degree Fahrenheit\n",
            "22.0 Degree Celsius = 72.0 Degree Fahrenheit\n",
            "38.0 Degree Celsius = 100.0 Degree Fahrenheit\n"
          ],
          "name": "stdout"
        }
      ]
    },
    {
      "cell_type": "code",
      "metadata": {
        "id": "3qeIailHzwmn",
        "colab_type": "code",
        "colab": {}
      },
      "source": [
        "l0=tf.keras.layers.Dense(units=1, input_shape=[1]) #defining a single dense layer"
      ],
      "execution_count": 0,
      "outputs": []
    },
    {
      "cell_type": "code",
      "metadata": {
        "id": "-S1BoQ5G0Dky",
        "colab_type": "code",
        "colab": {}
      },
      "source": [
        "model=tf.keras.Sequential([l0]) #defining the model with the previous created layer"
      ],
      "execution_count": 0,
      "outputs": []
    },
    {
      "cell_type": "code",
      "metadata": {
        "id": "ioK57ies0Tyo",
        "colab_type": "code",
        "colab": {}
      },
      "source": [
        "model.compile(loss='mean_squared_error', optimizer=tf.keras.optimizers.Adam(0.1)) "
      ],
      "execution_count": 0,
      "outputs": []
    },
    {
      "cell_type": "code",
      "metadata": {
        "id": "6uoY_5pc0w7-",
        "colab_type": "code",
        "outputId": "5643de82-466e-42ed-c8f6-c7271e2568a5",
        "colab": {
          "base_uri": "https://localhost:8080/",
          "height": 34
        }
      },
      "source": [
        "history=model.fit(celsius, fahrenheit, epochs=500, verbose=False)\n",
        "print(\"Model Training Finished\")"
      ],
      "execution_count": 0,
      "outputs": [
        {
          "output_type": "stream",
          "text": [
            "Model Training Finished\n"
          ],
          "name": "stdout"
        }
      ]
    },
    {
      "cell_type": "code",
      "metadata": {
        "id": "Ejh6vTWu1d9W",
        "colab_type": "code",
        "outputId": "6a276763-6ee5-45db-aaa3-13aaaefd7f37",
        "colab": {
          "base_uri": "https://localhost:8080/",
          "height": 296
        }
      },
      "source": [
        "import matplotlib.pyplot as plt\n",
        "plt.xlabel('Epoch Number')\n",
        "plt.ylabel(\"Loss Magnitude\")\n",
        "plt.plot(history.history['loss'])"
      ],
      "execution_count": 0,
      "outputs": [
        {
          "output_type": "execute_result",
          "data": {
            "text/plain": [
              "[<matplotlib.lines.Line2D at 0x7f5cdf932080>]"
            ]
          },
          "metadata": {
            "tags": []
          },
          "execution_count": 8
        },
        {
          "output_type": "display_data",
          "data": {
            "image/png": "[encoded data removed]",
            "text/plain": [
              "<Figure size 432x288 with 1 Axes>"
            ]
          },
          "metadata": {
            "tags": [],
            "needs_background": "light"
          }
        }
      ]
    },
    {
      "cell_type": "code",
      "metadata": {
        "id": "7CtPBE9c16Yc",
        "colab_type": "code",
        "outputId": "46307789-0913-4199-8df0-820ccc9abd42",
        "colab": {
          "base_uri": "https://localhost:8080/",
          "height": 34
        }
      },
      "source": [
        "print(model.predict([100.0]))"
      ],
      "execution_count": 0,
      "outputs": [
        {
          "output_type": "stream",
          "text": [
            "[[211.27771]]\n"
          ],
          "name": "stdout"
        }
      ]
    },
    {
      "cell_type": "code",
      "metadata": {
        "id": "KsFg5enJ2K2F",
        "colab_type": "code",
        "outputId": "e4a2e855-9472-44e0-ee8b-9868e5db7787",
        "colab": {
          "base_uri": "https://localhost:8080/",
          "height": 34
        }
      },
      "source": [
        "print(\" The Layer weights are {}\".format(l0.get_weights()))"
      ],
      "execution_count": 0,
      "outputs": [
        {
          "output_type": "stream",
          "text": [
            " The Layer weights are [array([[1.8288608]], dtype=float32), array([28.391626], dtype=float32)]\n"
          ],
          "name": "stdout"
        }
      ]
    },
    {
      "cell_type": "code",
      "metadata": {
        "id": "fePwSB9U2ubI",
        "colab_type": "code",
        "outputId": "8f74e081-de80-4ca4-d5dc-dd99f89e3453",
        "colab": {
          "base_uri": "https://localhost:8080/",
          "height": 34
        }
      },
      "source": [
        "layer0=tf.keras.layers.Dense(units=4, input_shape=[1]) #Creating multiple dense layers with different number of neurons\n",
        "layer1=tf.keras.layers.Dense(units=4)\n",
        "layer2=tf.keras.layers.Dense(units=1)\n",
        "model2=tf.keras.Sequential([layer0,layer1,layer2]) #defining the multilayered model.\n",
        "model2.compile(loss='mean_squared_error', optimizer=tf.keras.optimizers.Adam(0.1))\n",
        "history2=model2.fit(celsius, fahrenheit, epochs=500, verbose=False)\n",
        "print(\"Model Training Finished\")\n",
        "\n"
      ],
      "execution_count": 0,
      "outputs": [
        {
          "output_type": "stream",
          "text": [
            "Model Training Finished\n"
          ],
          "name": "stdout"
        }
      ]
    },
    {
      "cell_type": "code",
      "metadata": {
        "id": "LaFz6-If3ypf",
        "colab_type": "code",
        "outputId": "6be1ac17-e1e5-449f-9f4d-032a5ff57151",
        "colab": {
          "base_uri": "https://localhost:8080/",
          "height": 34
        }
      },
      "source": [
        "print(model2.predict([100.0]))"
      ],
      "execution_count": 0,
      "outputs": [
        {
          "output_type": "stream",
          "text": [
            "[[211.74747]]\n"
          ],
          "name": "stdout"
        }
      ]
    },
    {
      "cell_type": "code",
      "metadata": {
        "id": "hvptBOP233wg",
        "colab_type": "code",
        "outputId": "fe7a12a3-a0f8-4d00-954a-67cab2fe5338",
        "colab": {
          "base_uri": "https://localhost:8080/",
          "height": 204
        }
      },
      "source": [
        "print(\" The Layer 0 weights are {}\".format(layer0.get_weights()))\n",
        "print(\" The Layer 1 weights are {}\".format(layer1.get_weights()))\n",
        "print(\" The Layer 2 weights are {}\".format(layer2.get_weights()))"
      ],
      "execution_count": 0,
      "outputs": [
        {
          "output_type": "stream",
          "text": [
            " The Layer 0 weights are [array([[-0.7121533 , -0.461086  ,  0.00697914, -0.07674967]],\n",
            "      dtype=float32), array([-3.1851034, -3.1661344, -2.9498045,  2.0904858], dtype=float32)]\n",
            " The Layer 1 weights are [array([[-0.899699  ,  0.28599438,  0.2814371 , -0.5019274 ],\n",
            "       [-0.6619094 ,  0.6895313 , -0.627721  ,  0.3675537 ],\n",
            "       [-0.65521467,  1.2638148 ,  0.8430132 ,  0.645894  ],\n",
            "       [ 0.14412042, -0.9486985 ,  0.20602949,  0.13406862]],\n",
            "      dtype=float32), array([ 3.1859527 , -3.1473517 ,  0.739503  ,  0.58068246], dtype=float32)]\n",
            " The Layer 2 weights are [array([[ 1.3385452 ],\n",
            "       [-1.2476572 ],\n",
            "       [ 0.05772134],\n",
            "       [-0.0042853 ]], dtype=float32), array([3.1542315], dtype=float32)]\n"
          ],
          "name": "stdout"
        }
      ]
    },
    {
      "cell_type": "code",
      "metadata": {
        "id": "1zhi8nSS5K4t",
        "colab_type": "code",
        "colab": {}
      },
      "source": [
        ""
      ],
      "execution_count": 0,
      "outputs": []
    }
  ]
}